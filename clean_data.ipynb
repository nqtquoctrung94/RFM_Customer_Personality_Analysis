{
  "cells": [
    {
      "cell_type": "markdown",
      "metadata": {
        "id": "hK_HKwrzlVIC"
      },
      "source": [
        "# 0 - Import"
      ]
    },
    {
      "cell_type": "code",
      "execution_count": 42,
      "metadata": {
        "id": "4CqUwQ50lVIG"
      },
      "outputs": [],
      "source": [
        "import pandas as pd\n",
        "from ydata_profiling import ProfileReport\n",
        "import matplotlib.pyplot as plt"
      ]
    },
    {
      "cell_type": "code",
      "execution_count": 43,
      "metadata": {
        "id": "mL1Ej-OglVIH"
      },
      "outputs": [],
      "source": [
        "pd.set_option('display.max_rows', 100)\n",
        "pd.set_option('display.max_columns', 100)"
      ]
    },
    {
      "cell_type": "markdown",
      "metadata": {
        "id": "k92p5hvflVII"
      },
      "source": [
        "# 1 - Load file"
      ]
    },
    {
      "cell_type": "code",
      "execution_count": 44,
      "metadata": {
        "id": "6w8Imd8FlVII",
        "outputId": "2e4cf379-6428-4024-b821-d6a0ed460dbe"
      },
      "outputs": [
        {
          "data": {
            "text/html": [
              "<div>\n",
              "<style scoped>\n",
              "    .dataframe tbody tr th:only-of-type {\n",
              "        vertical-align: middle;\n",
              "    }\n",
              "\n",
              "    .dataframe tbody tr th {\n",
              "        vertical-align: top;\n",
              "    }\n",
              "\n",
              "    .dataframe thead th {\n",
              "        text-align: right;\n",
              "    }\n",
              "</style>\n",
              "<table border=\"1\" class=\"dataframe\">\n",
              "  <thead>\n",
              "    <tr style=\"text-align: right;\">\n",
              "      <th></th>\n",
              "      <th>ID</th>\n",
              "      <th>Year_Birth</th>\n",
              "      <th>Education</th>\n",
              "      <th>Marital_Status</th>\n",
              "      <th>Income</th>\n",
              "      <th>Kidhome</th>\n",
              "      <th>Teenhome</th>\n",
              "      <th>Dt_Customer</th>\n",
              "      <th>Recency</th>\n",
              "      <th>MntWines</th>\n",
              "      <th>MntFruits</th>\n",
              "      <th>MntMeatProducts</th>\n",
              "      <th>MntFishProducts</th>\n",
              "      <th>MntSweetProducts</th>\n",
              "      <th>MntGoldProds</th>\n",
              "      <th>NumDealsPurchases</th>\n",
              "      <th>NumWebPurchases</th>\n",
              "      <th>NumCatalogPurchases</th>\n",
              "      <th>NumStorePurchases</th>\n",
              "      <th>NumWebVisitsMonth</th>\n",
              "      <th>AcceptedCmp3</th>\n",
              "      <th>AcceptedCmp4</th>\n",
              "      <th>AcceptedCmp5</th>\n",
              "      <th>AcceptedCmp1</th>\n",
              "      <th>AcceptedCmp2</th>\n",
              "      <th>Complain</th>\n",
              "      <th>Z_CostContact</th>\n",
              "      <th>Z_Revenue</th>\n",
              "      <th>Response</th>\n",
              "    </tr>\n",
              "  </thead>\n",
              "  <tbody>\n",
              "    <tr>\n",
              "      <th>0</th>\n",
              "      <td>5524</td>\n",
              "      <td>1957</td>\n",
              "      <td>Graduation</td>\n",
              "      <td>Single</td>\n",
              "      <td>58138.0</td>\n",
              "      <td>0</td>\n",
              "      <td>0</td>\n",
              "      <td>04-09-2012</td>\n",
              "      <td>58</td>\n",
              "      <td>635</td>\n",
              "      <td>88</td>\n",
              "      <td>546</td>\n",
              "      <td>172</td>\n",
              "      <td>88</td>\n",
              "      <td>88</td>\n",
              "      <td>3</td>\n",
              "      <td>8</td>\n",
              "      <td>10</td>\n",
              "      <td>4</td>\n",
              "      <td>7</td>\n",
              "      <td>0</td>\n",
              "      <td>0</td>\n",
              "      <td>0</td>\n",
              "      <td>0</td>\n",
              "      <td>0</td>\n",
              "      <td>0</td>\n",
              "      <td>3</td>\n",
              "      <td>11</td>\n",
              "      <td>1</td>\n",
              "    </tr>\n",
              "    <tr>\n",
              "      <th>1</th>\n",
              "      <td>2174</td>\n",
              "      <td>1954</td>\n",
              "      <td>Graduation</td>\n",
              "      <td>Single</td>\n",
              "      <td>46344.0</td>\n",
              "      <td>1</td>\n",
              "      <td>1</td>\n",
              "      <td>08-03-2014</td>\n",
              "      <td>38</td>\n",
              "      <td>11</td>\n",
              "      <td>1</td>\n",
              "      <td>6</td>\n",
              "      <td>2</td>\n",
              "      <td>1</td>\n",
              "      <td>6</td>\n",
              "      <td>2</td>\n",
              "      <td>1</td>\n",
              "      <td>1</td>\n",
              "      <td>2</td>\n",
              "      <td>5</td>\n",
              "      <td>0</td>\n",
              "      <td>0</td>\n",
              "      <td>0</td>\n",
              "      <td>0</td>\n",
              "      <td>0</td>\n",
              "      <td>0</td>\n",
              "      <td>3</td>\n",
              "      <td>11</td>\n",
              "      <td>0</td>\n",
              "    </tr>\n",
              "    <tr>\n",
              "      <th>2</th>\n",
              "      <td>4141</td>\n",
              "      <td>1965</td>\n",
              "      <td>Graduation</td>\n",
              "      <td>Together</td>\n",
              "      <td>71613.0</td>\n",
              "      <td>0</td>\n",
              "      <td>0</td>\n",
              "      <td>21-08-2013</td>\n",
              "      <td>26</td>\n",
              "      <td>426</td>\n",
              "      <td>49</td>\n",
              "      <td>127</td>\n",
              "      <td>111</td>\n",
              "      <td>21</td>\n",
              "      <td>42</td>\n",
              "      <td>1</td>\n",
              "      <td>8</td>\n",
              "      <td>2</td>\n",
              "      <td>10</td>\n",
              "      <td>4</td>\n",
              "      <td>0</td>\n",
              "      <td>0</td>\n",
              "      <td>0</td>\n",
              "      <td>0</td>\n",
              "      <td>0</td>\n",
              "      <td>0</td>\n",
              "      <td>3</td>\n",
              "      <td>11</td>\n",
              "      <td>0</td>\n",
              "    </tr>\n",
              "    <tr>\n",
              "      <th>3</th>\n",
              "      <td>6182</td>\n",
              "      <td>1984</td>\n",
              "      <td>Graduation</td>\n",
              "      <td>Together</td>\n",
              "      <td>26646.0</td>\n",
              "      <td>1</td>\n",
              "      <td>0</td>\n",
              "      <td>10-02-2014</td>\n",
              "      <td>26</td>\n",
              "      <td>11</td>\n",
              "      <td>4</td>\n",
              "      <td>20</td>\n",
              "      <td>10</td>\n",
              "      <td>3</td>\n",
              "      <td>5</td>\n",
              "      <td>2</td>\n",
              "      <td>2</td>\n",
              "      <td>0</td>\n",
              "      <td>4</td>\n",
              "      <td>6</td>\n",
              "      <td>0</td>\n",
              "      <td>0</td>\n",
              "      <td>0</td>\n",
              "      <td>0</td>\n",
              "      <td>0</td>\n",
              "      <td>0</td>\n",
              "      <td>3</td>\n",
              "      <td>11</td>\n",
              "      <td>0</td>\n",
              "    </tr>\n",
              "    <tr>\n",
              "      <th>4</th>\n",
              "      <td>5324</td>\n",
              "      <td>1981</td>\n",
              "      <td>PhD</td>\n",
              "      <td>Married</td>\n",
              "      <td>58293.0</td>\n",
              "      <td>1</td>\n",
              "      <td>0</td>\n",
              "      <td>19-01-2014</td>\n",
              "      <td>94</td>\n",
              "      <td>173</td>\n",
              "      <td>43</td>\n",
              "      <td>118</td>\n",
              "      <td>46</td>\n",
              "      <td>27</td>\n",
              "      <td>15</td>\n",
              "      <td>5</td>\n",
              "      <td>5</td>\n",
              "      <td>3</td>\n",
              "      <td>6</td>\n",
              "      <td>5</td>\n",
              "      <td>0</td>\n",
              "      <td>0</td>\n",
              "      <td>0</td>\n",
              "      <td>0</td>\n",
              "      <td>0</td>\n",
              "      <td>0</td>\n",
              "      <td>3</td>\n",
              "      <td>11</td>\n",
              "      <td>0</td>\n",
              "    </tr>\n",
              "    <tr>\n",
              "      <th>...</th>\n",
              "      <td>...</td>\n",
              "      <td>...</td>\n",
              "      <td>...</td>\n",
              "      <td>...</td>\n",
              "      <td>...</td>\n",
              "      <td>...</td>\n",
              "      <td>...</td>\n",
              "      <td>...</td>\n",
              "      <td>...</td>\n",
              "      <td>...</td>\n",
              "      <td>...</td>\n",
              "      <td>...</td>\n",
              "      <td>...</td>\n",
              "      <td>...</td>\n",
              "      <td>...</td>\n",
              "      <td>...</td>\n",
              "      <td>...</td>\n",
              "      <td>...</td>\n",
              "      <td>...</td>\n",
              "      <td>...</td>\n",
              "      <td>...</td>\n",
              "      <td>...</td>\n",
              "      <td>...</td>\n",
              "      <td>...</td>\n",
              "      <td>...</td>\n",
              "      <td>...</td>\n",
              "      <td>...</td>\n",
              "      <td>...</td>\n",
              "      <td>...</td>\n",
              "    </tr>\n",
              "    <tr>\n",
              "      <th>2235</th>\n",
              "      <td>10870</td>\n",
              "      <td>1967</td>\n",
              "      <td>Graduation</td>\n",
              "      <td>Married</td>\n",
              "      <td>61223.0</td>\n",
              "      <td>0</td>\n",
              "      <td>1</td>\n",
              "      <td>13-06-2013</td>\n",
              "      <td>46</td>\n",
              "      <td>709</td>\n",
              "      <td>43</td>\n",
              "      <td>182</td>\n",
              "      <td>42</td>\n",
              "      <td>118</td>\n",
              "      <td>247</td>\n",
              "      <td>2</td>\n",
              "      <td>9</td>\n",
              "      <td>3</td>\n",
              "      <td>4</td>\n",
              "      <td>5</td>\n",
              "      <td>0</td>\n",
              "      <td>0</td>\n",
              "      <td>0</td>\n",
              "      <td>0</td>\n",
              "      <td>0</td>\n",
              "      <td>0</td>\n",
              "      <td>3</td>\n",
              "      <td>11</td>\n",
              "      <td>0</td>\n",
              "    </tr>\n",
              "    <tr>\n",
              "      <th>2236</th>\n",
              "      <td>4001</td>\n",
              "      <td>1946</td>\n",
              "      <td>PhD</td>\n",
              "      <td>Together</td>\n",
              "      <td>64014.0</td>\n",
              "      <td>2</td>\n",
              "      <td>1</td>\n",
              "      <td>10-06-2014</td>\n",
              "      <td>56</td>\n",
              "      <td>406</td>\n",
              "      <td>0</td>\n",
              "      <td>30</td>\n",
              "      <td>0</td>\n",
              "      <td>0</td>\n",
              "      <td>8</td>\n",
              "      <td>7</td>\n",
              "      <td>8</td>\n",
              "      <td>2</td>\n",
              "      <td>5</td>\n",
              "      <td>7</td>\n",
              "      <td>0</td>\n",
              "      <td>0</td>\n",
              "      <td>0</td>\n",
              "      <td>1</td>\n",
              "      <td>0</td>\n",
              "      <td>0</td>\n",
              "      <td>3</td>\n",
              "      <td>11</td>\n",
              "      <td>0</td>\n",
              "    </tr>\n",
              "    <tr>\n",
              "      <th>2237</th>\n",
              "      <td>7270</td>\n",
              "      <td>1981</td>\n",
              "      <td>Graduation</td>\n",
              "      <td>Divorced</td>\n",
              "      <td>56981.0</td>\n",
              "      <td>0</td>\n",
              "      <td>0</td>\n",
              "      <td>25-01-2014</td>\n",
              "      <td>91</td>\n",
              "      <td>908</td>\n",
              "      <td>48</td>\n",
              "      <td>217</td>\n",
              "      <td>32</td>\n",
              "      <td>12</td>\n",
              "      <td>24</td>\n",
              "      <td>1</td>\n",
              "      <td>2</td>\n",
              "      <td>3</td>\n",
              "      <td>13</td>\n",
              "      <td>6</td>\n",
              "      <td>0</td>\n",
              "      <td>1</td>\n",
              "      <td>0</td>\n",
              "      <td>0</td>\n",
              "      <td>0</td>\n",
              "      <td>0</td>\n",
              "      <td>3</td>\n",
              "      <td>11</td>\n",
              "      <td>0</td>\n",
              "    </tr>\n",
              "    <tr>\n",
              "      <th>2238</th>\n",
              "      <td>8235</td>\n",
              "      <td>1956</td>\n",
              "      <td>Master</td>\n",
              "      <td>Together</td>\n",
              "      <td>69245.0</td>\n",
              "      <td>0</td>\n",
              "      <td>1</td>\n",
              "      <td>24-01-2014</td>\n",
              "      <td>8</td>\n",
              "      <td>428</td>\n",
              "      <td>30</td>\n",
              "      <td>214</td>\n",
              "      <td>80</td>\n",
              "      <td>30</td>\n",
              "      <td>61</td>\n",
              "      <td>2</td>\n",
              "      <td>6</td>\n",
              "      <td>5</td>\n",
              "      <td>10</td>\n",
              "      <td>3</td>\n",
              "      <td>0</td>\n",
              "      <td>0</td>\n",
              "      <td>0</td>\n",
              "      <td>0</td>\n",
              "      <td>0</td>\n",
              "      <td>0</td>\n",
              "      <td>3</td>\n",
              "      <td>11</td>\n",
              "      <td>0</td>\n",
              "    </tr>\n",
              "    <tr>\n",
              "      <th>2239</th>\n",
              "      <td>9405</td>\n",
              "      <td>1954</td>\n",
              "      <td>PhD</td>\n",
              "      <td>Married</td>\n",
              "      <td>52869.0</td>\n",
              "      <td>1</td>\n",
              "      <td>1</td>\n",
              "      <td>15-10-2012</td>\n",
              "      <td>40</td>\n",
              "      <td>84</td>\n",
              "      <td>3</td>\n",
              "      <td>61</td>\n",
              "      <td>2</td>\n",
              "      <td>1</td>\n",
              "      <td>21</td>\n",
              "      <td>3</td>\n",
              "      <td>3</td>\n",
              "      <td>1</td>\n",
              "      <td>4</td>\n",
              "      <td>7</td>\n",
              "      <td>0</td>\n",
              "      <td>0</td>\n",
              "      <td>0</td>\n",
              "      <td>0</td>\n",
              "      <td>0</td>\n",
              "      <td>0</td>\n",
              "      <td>3</td>\n",
              "      <td>11</td>\n",
              "      <td>1</td>\n",
              "    </tr>\n",
              "  </tbody>\n",
              "</table>\n",
              "<p>2240 rows × 29 columns</p>\n",
              "</div>"
            ],
            "text/plain": [
              "         ID  Year_Birth   Education Marital_Status   Income  Kidhome  \\\n",
              "0      5524        1957  Graduation         Single  58138.0        0   \n",
              "1      2174        1954  Graduation         Single  46344.0        1   \n",
              "2      4141        1965  Graduation       Together  71613.0        0   \n",
              "3      6182        1984  Graduation       Together  26646.0        1   \n",
              "4      5324        1981         PhD        Married  58293.0        1   \n",
              "...     ...         ...         ...            ...      ...      ...   \n",
              "2235  10870        1967  Graduation        Married  61223.0        0   \n",
              "2236   4001        1946         PhD       Together  64014.0        2   \n",
              "2237   7270        1981  Graduation       Divorced  56981.0        0   \n",
              "2238   8235        1956      Master       Together  69245.0        0   \n",
              "2239   9405        1954         PhD        Married  52869.0        1   \n",
              "\n",
              "      Teenhome Dt_Customer  Recency  MntWines  MntFruits  MntMeatProducts  \\\n",
              "0            0  04-09-2012       58       635         88              546   \n",
              "1            1  08-03-2014       38        11          1                6   \n",
              "2            0  21-08-2013       26       426         49              127   \n",
              "3            0  10-02-2014       26        11          4               20   \n",
              "4            0  19-01-2014       94       173         43              118   \n",
              "...        ...         ...      ...       ...        ...              ...   \n",
              "2235         1  13-06-2013       46       709         43              182   \n",
              "2236         1  10-06-2014       56       406          0               30   \n",
              "2237         0  25-01-2014       91       908         48              217   \n",
              "2238         1  24-01-2014        8       428         30              214   \n",
              "2239         1  15-10-2012       40        84          3               61   \n",
              "\n",
              "      MntFishProducts  MntSweetProducts  MntGoldProds  NumDealsPurchases  \\\n",
              "0                 172                88            88                  3   \n",
              "1                   2                 1             6                  2   \n",
              "2                 111                21            42                  1   \n",
              "3                  10                 3             5                  2   \n",
              "4                  46                27            15                  5   \n",
              "...               ...               ...           ...                ...   \n",
              "2235               42               118           247                  2   \n",
              "2236                0                 0             8                  7   \n",
              "2237               32                12            24                  1   \n",
              "2238               80                30            61                  2   \n",
              "2239                2                 1            21                  3   \n",
              "\n",
              "      NumWebPurchases  NumCatalogPurchases  NumStorePurchases  \\\n",
              "0                   8                   10                  4   \n",
              "1                   1                    1                  2   \n",
              "2                   8                    2                 10   \n",
              "3                   2                    0                  4   \n",
              "4                   5                    3                  6   \n",
              "...               ...                  ...                ...   \n",
              "2235                9                    3                  4   \n",
              "2236                8                    2                  5   \n",
              "2237                2                    3                 13   \n",
              "2238                6                    5                 10   \n",
              "2239                3                    1                  4   \n",
              "\n",
              "      NumWebVisitsMonth  AcceptedCmp3  AcceptedCmp4  AcceptedCmp5  \\\n",
              "0                     7             0             0             0   \n",
              "1                     5             0             0             0   \n",
              "2                     4             0             0             0   \n",
              "3                     6             0             0             0   \n",
              "4                     5             0             0             0   \n",
              "...                 ...           ...           ...           ...   \n",
              "2235                  5             0             0             0   \n",
              "2236                  7             0             0             0   \n",
              "2237                  6             0             1             0   \n",
              "2238                  3             0             0             0   \n",
              "2239                  7             0             0             0   \n",
              "\n",
              "      AcceptedCmp1  AcceptedCmp2  Complain  Z_CostContact  Z_Revenue  Response  \n",
              "0                0             0         0              3         11         1  \n",
              "1                0             0         0              3         11         0  \n",
              "2                0             0         0              3         11         0  \n",
              "3                0             0         0              3         11         0  \n",
              "4                0             0         0              3         11         0  \n",
              "...            ...           ...       ...            ...        ...       ...  \n",
              "2235             0             0         0              3         11         0  \n",
              "2236             1             0         0              3         11         0  \n",
              "2237             0             0         0              3         11         0  \n",
              "2238             0             0         0              3         11         0  \n",
              "2239             0             0         0              3         11         1  \n",
              "\n",
              "[2240 rows x 29 columns]"
            ]
          },
          "execution_count": 44,
          "metadata": {},
          "output_type": "execute_result"
        }
      ],
      "source": [
        "df = pd.read_csv(\"marketing_campaign.csv\", sep='\\t')\n",
        "df"
      ]
    },
    {
      "cell_type": "markdown",
      "metadata": {
        "id": "--FwxH3ClVIJ"
      },
      "source": [
        "## Check dataset"
      ]
    },
    {
      "cell_type": "code",
      "execution_count": 45,
      "metadata": {
        "id": "7UgDv844lVIJ",
        "outputId": "bf02b65f-a424-490b-dc06-45459d2b136f"
      },
      "outputs": [
        {
          "name": "stdout",
          "output_type": "stream",
          "text": [
            "2240 rows, 29 columns\n"
          ]
        }
      ],
      "source": [
        "# Check data size\n",
        "print(f\"{df.shape[0]} rows, {df.shape[1]} columns\")"
      ]
    },
    {
      "cell_type": "code",
      "execution_count": 46,
      "metadata": {
        "id": "ViYiB0K3lVIK",
        "outputId": "931cc070-985b-427f-ba0b-e7187cf02c22"
      },
      "outputs": [
        {
          "name": "stdout",
          "output_type": "stream",
          "text": [
            "<class 'pandas.core.frame.DataFrame'>\n",
            "RangeIndex: 2240 entries, 0 to 2239\n",
            "Data columns (total 29 columns):\n",
            " #   Column               Non-Null Count  Dtype  \n",
            "---  ------               --------------  -----  \n",
            " 0   ID                   2240 non-null   int64  \n",
            " 1   Year_Birth           2240 non-null   int64  \n",
            " 2   Education            2240 non-null   object \n",
            " 3   Marital_Status       2240 non-null   object \n",
            " 4   Income               2216 non-null   float64\n",
            " 5   Kidhome              2240 non-null   int64  \n",
            " 6   Teenhome             2240 non-null   int64  \n",
            " 7   Dt_Customer          2240 non-null   object \n",
            " 8   Recency              2240 non-null   int64  \n",
            " 9   MntWines             2240 non-null   int64  \n",
            " 10  MntFruits            2240 non-null   int64  \n",
            " 11  MntMeatProducts      2240 non-null   int64  \n",
            " 12  MntFishProducts      2240 non-null   int64  \n",
            " 13  MntSweetProducts     2240 non-null   int64  \n",
            " 14  MntGoldProds         2240 non-null   int64  \n",
            " 15  NumDealsPurchases    2240 non-null   int64  \n",
            " 16  NumWebPurchases      2240 non-null   int64  \n",
            " 17  NumCatalogPurchases  2240 non-null   int64  \n",
            " 18  NumStorePurchases    2240 non-null   int64  \n",
            " 19  NumWebVisitsMonth    2240 non-null   int64  \n",
            " 20  AcceptedCmp3         2240 non-null   int64  \n",
            " 21  AcceptedCmp4         2240 non-null   int64  \n",
            " 22  AcceptedCmp5         2240 non-null   int64  \n",
            " 23  AcceptedCmp1         2240 non-null   int64  \n",
            " 24  AcceptedCmp2         2240 non-null   int64  \n",
            " 25  Complain             2240 non-null   int64  \n",
            " 26  Z_CostContact        2240 non-null   int64  \n",
            " 27  Z_Revenue            2240 non-null   int64  \n",
            " 28  Response             2240 non-null   int64  \n",
            "dtypes: float64(1), int64(25), object(3)\n",
            "memory usage: 507.6+ KB\n"
          ]
        }
      ],
      "source": [
        "# Value type\n",
        "df.info()"
      ]
    },
    {
      "cell_type": "code",
      "execution_count": 47,
      "metadata": {
        "id": "-TUt6iqnlVIL",
        "outputId": "cc0bfa48-9869-4c30-c406-edef6f4764cb"
      },
      "outputs": [
        {
          "data": {
            "text/plain": [
              "ID                      0\n",
              "Year_Birth              0\n",
              "Education               0\n",
              "Marital_Status          0\n",
              "Income                 24\n",
              "Kidhome                 0\n",
              "Teenhome                0\n",
              "Dt_Customer             0\n",
              "Recency                 0\n",
              "MntWines                0\n",
              "MntFruits               0\n",
              "MntMeatProducts         0\n",
              "MntFishProducts         0\n",
              "MntSweetProducts        0\n",
              "MntGoldProds            0\n",
              "NumDealsPurchases       0\n",
              "NumWebPurchases         0\n",
              "NumCatalogPurchases     0\n",
              "NumStorePurchases       0\n",
              "NumWebVisitsMonth       0\n",
              "AcceptedCmp3            0\n",
              "AcceptedCmp4            0\n",
              "AcceptedCmp5            0\n",
              "AcceptedCmp1            0\n",
              "AcceptedCmp2            0\n",
              "Complain                0\n",
              "Z_CostContact           0\n",
              "Z_Revenue               0\n",
              "Response                0\n",
              "dtype: int64"
            ]
          },
          "execution_count": 47,
          "metadata": {},
          "output_type": "execute_result"
        }
      ],
      "source": [
        "# Check null\n",
        "df.isna().sum()"
      ]
    },
    {
      "cell_type": "code",
      "execution_count": 48,
      "metadata": {
        "id": "nAmEaMv7lVIL",
        "outputId": "1e7a496a-58f6-482e-aba0-0adcd7a95403"
      },
      "outputs": [
        {
          "data": {
            "text/plain": [
              "0"
            ]
          },
          "execution_count": 48,
          "metadata": {},
          "output_type": "execute_result"
        }
      ],
      "source": [
        "## Check duplicates\n",
        "df.duplicated().sum()"
      ]
    },
    {
      "cell_type": "markdown",
      "metadata": {
        "id": "I19PEgC0lVIM"
      },
      "source": [
        "# 2 - Data Preparation"
      ]
    },
    {
      "cell_type": "markdown",
      "metadata": {
        "id": "fpiT1EzPlVIM"
      },
      "source": [
        "## Drop null rows"
      ]
    },
    {
      "cell_type": "code",
      "execution_count": 49,
      "metadata": {
        "id": "-AO-um3tlVIM"
      },
      "outputs": [],
      "source": [
        "df.dropna(inplace= True)"
      ]
    },
    {
      "cell_type": "markdown",
      "metadata": {
        "id": "P44CLykVlVIN"
      },
      "source": [
        "## Type Casting"
      ]
    },
    {
      "cell_type": "code",
      "execution_count": 50,
      "metadata": {
        "id": "6BwM_-s-lVIN",
        "outputId": "036d4105-d096-400b-cd09-2b74f14e9762"
      },
      "outputs": [
        {
          "name": "stdout",
          "output_type": "stream",
          "text": [
            "2012-07-30 00:00:00\n",
            "2014-06-29 00:00:00\n"
          ]
        }
      ],
      "source": [
        "# Convert Dt_Customer to datetime value\n",
        "df['Dt_Customer'] = pd.to_datetime(df['Dt_Customer'], dayfirst = True)\n",
        "print(df['Dt_Customer'].min())\n",
        "print(df['Dt_Customer'].max())"
      ]
    },
    {
      "cell_type": "code",
      "execution_count": 51,
      "metadata": {
        "id": "yil7LRbulVIO",
        "outputId": "8cf26953-2458-417a-a3bc-944b11d52dc0"
      },
      "outputs": [
        {
          "name": "stdout",
          "output_type": "stream",
          "text": [
            "<class 'pandas.core.frame.DataFrame'>\n",
            "Int64Index: 2216 entries, 0 to 2239\n",
            "Data columns (total 29 columns):\n",
            " #   Column               Non-Null Count  Dtype         \n",
            "---  ------               --------------  -----         \n",
            " 0   ID                   2216 non-null   int64         \n",
            " 1   Year_Birth           2216 non-null   int64         \n",
            " 2   Education            2216 non-null   object        \n",
            " 3   Marital_Status       2216 non-null   object        \n",
            " 4   Income               2216 non-null   float64       \n",
            " 5   Kidhome              2216 non-null   int64         \n",
            " 6   Teenhome             2216 non-null   int64         \n",
            " 7   Dt_Customer          2216 non-null   datetime64[ns]\n",
            " 8   Recency              2216 non-null   int64         \n",
            " 9   MntWines             2216 non-null   int64         \n",
            " 10  MntFruits            2216 non-null   int64         \n",
            " 11  MntMeatProducts      2216 non-null   int64         \n",
            " 12  MntFishProducts      2216 non-null   int64         \n",
            " 13  MntSweetProducts     2216 non-null   int64         \n",
            " 14  MntGoldProds         2216 non-null   int64         \n",
            " 15  NumDealsPurchases    2216 non-null   int64         \n",
            " 16  NumWebPurchases      2216 non-null   int64         \n",
            " 17  NumCatalogPurchases  2216 non-null   int64         \n",
            " 18  NumStorePurchases    2216 non-null   int64         \n",
            " 19  NumWebVisitsMonth    2216 non-null   int64         \n",
            " 20  AcceptedCmp3         2216 non-null   int64         \n",
            " 21  AcceptedCmp4         2216 non-null   int64         \n",
            " 22  AcceptedCmp5         2216 non-null   int64         \n",
            " 23  AcceptedCmp1         2216 non-null   int64         \n",
            " 24  AcceptedCmp2         2216 non-null   int64         \n",
            " 25  Complain             2216 non-null   int64         \n",
            " 26  Z_CostContact        2216 non-null   int64         \n",
            " 27  Z_Revenue            2216 non-null   int64         \n",
            " 28  Response             2216 non-null   int64         \n",
            "dtypes: datetime64[ns](1), float64(1), int64(25), object(2)\n",
            "memory usage: 519.4+ KB\n"
          ]
        }
      ],
      "source": [
        "df.info()"
      ]
    },
    {
      "cell_type": "markdown",
      "metadata": {
        "id": "Vtjumu07lVIO"
      },
      "source": [
        "## Define `last_day`, `age`, `lifespan_months`"
      ]
    },
    {
      "cell_type": "markdown",
      "metadata": {
        "id": "pEOyhOLBlVIP"
      },
      "source": [
        "Because we cannot define the last day of the dataset, so it is assumed that:\n",
        "- last_day = max(Dt_customer + Recency)"
      ]
    },
    {
      "cell_type": "code",
      "execution_count": 52,
      "metadata": {
        "id": "tkR_AYSmlVIP",
        "outputId": "279c491d-cf09-4d0f-e66d-d7ea736ac1c7"
      },
      "outputs": [
        {
          "name": "stdout",
          "output_type": "stream",
          "text": [
            "2014-10-04 00:00:00\n"
          ]
        }
      ],
      "source": [
        "# Calculate last day\n",
        "last_date = df.apply(lambda row: row['Dt_Customer'] + pd.DateOffset(days=row['Recency']), axis=1).max()\n",
        "print(last_date)"
      ]
    },
    {
      "cell_type": "code",
      "execution_count": 53,
      "metadata": {
        "id": "WTmWDUbnlVIP"
      },
      "outputs": [],
      "source": [
        "# Add customer's age\n",
        "df['Age'] = 2014 - df['Year_Birth']"
      ]
    },
    {
      "cell_type": "markdown",
      "metadata": {
        "id": "oXb1xpFalVIP"
      },
      "source": [
        "We want to know how long customer has been with us, so we calculate\n",
        "- lifespan_months = (last_date - Dt_Customer) / 30"
      ]
    },
    {
      "cell_type": "code",
      "execution_count": 54,
      "metadata": {
        "id": "9CDQYD_dlVIP"
      },
      "outputs": [],
      "source": [
        "df['lifespan_months'] = (last_date - df['Dt_Customer']).dt.days // 30"
      ]
    },
    {
      "cell_type": "markdown",
      "metadata": {
        "id": "ueNPLMhplVIQ"
      },
      "source": [
        "## Clean `Marital_Status`, `Children` and define `Family_size`"
      ]
    },
    {
      "cell_type": "code",
      "execution_count": 55,
      "metadata": {
        "id": "GulH-GFOlVIQ",
        "outputId": "83b15973-af9a-4358-d7bf-0fdfaa1455fd"
      },
      "outputs": [
        {
          "data": {
            "text/plain": [
              "Married     857\n",
              "Together    573\n",
              "Single      471\n",
              "Divorced    232\n",
              "Widow        76\n",
              "Alone         3\n",
              "Absurd        2\n",
              "YOLO          2\n",
              "Name: Marital_Status, dtype: int64"
            ]
          },
          "execution_count": 55,
          "metadata": {},
          "output_type": "execute_result"
        }
      ],
      "source": [
        "df['Marital_Status'].value_counts()"
      ]
    },
    {
      "cell_type": "markdown",
      "metadata": {
        "id": "h0Zf1RymlVIQ"
      },
      "source": [
        "Martial status dont need to have that much categories, we can just combine them into `Single` and `Couple`"
      ]
    },
    {
      "cell_type": "code",
      "execution_count": 56,
      "metadata": {
        "id": "HlyI-DHilVIQ"
      },
      "outputs": [],
      "source": [
        "clean_marital_status = {\n",
        "    'Married':  'Couple',\n",
        "    'Together': 'Couple',\n",
        "    'Single':   'Single',\n",
        "    'Divorced': 'Single',\n",
        "    'Widow':    'Single',\n",
        "    'Alone':    'Single',\n",
        "    'Absurd':   'Single',\n",
        "    'YOLO':     'Single'\n",
        "}\n",
        "df['Marital_Status'] = df['Marital_Status'].replace(clean_marital_status)"
      ]
    },
    {
      "cell_type": "code",
      "execution_count": 57,
      "metadata": {
        "id": "yGGlB1wIlVIS",
        "outputId": "3682d377-40a6-4c97-f10e-cbd6dd3c8354"
      },
      "outputs": [
        {
          "data": {
            "text/plain": [
              "Couple    1430\n",
              "Single     786\n",
              "Name: Marital_Status, dtype: int64"
            ]
          },
          "execution_count": 57,
          "metadata": {},
          "output_type": "execute_result"
        }
      ],
      "source": [
        "df['Marital_Status'].value_counts()"
      ]
    },
    {
      "cell_type": "code",
      "execution_count": 58,
      "metadata": {
        "id": "Tdjtm0YelVIT",
        "outputId": "e5393edb-7529-4f08-98f7-0ebd30991777"
      },
      "outputs": [
        {
          "data": {
            "text/html": [
              "<div>\n",
              "<style scoped>\n",
              "    .dataframe tbody tr th:only-of-type {\n",
              "        vertical-align: middle;\n",
              "    }\n",
              "\n",
              "    .dataframe tbody tr th {\n",
              "        vertical-align: top;\n",
              "    }\n",
              "\n",
              "    .dataframe thead th {\n",
              "        text-align: right;\n",
              "    }\n",
              "</style>\n",
              "<table border=\"1\" class=\"dataframe\">\n",
              "  <thead>\n",
              "    <tr style=\"text-align: right;\">\n",
              "      <th></th>\n",
              "      <th>Kidhome</th>\n",
              "      <th>Teenhome</th>\n",
              "    </tr>\n",
              "  </thead>\n",
              "  <tbody>\n",
              "    <tr>\n",
              "      <th>0</th>\n",
              "      <td>0</td>\n",
              "      <td>0</td>\n",
              "    </tr>\n",
              "    <tr>\n",
              "      <th>1</th>\n",
              "      <td>1</td>\n",
              "      <td>1</td>\n",
              "    </tr>\n",
              "    <tr>\n",
              "      <th>2</th>\n",
              "      <td>0</td>\n",
              "      <td>0</td>\n",
              "    </tr>\n",
              "  </tbody>\n",
              "</table>\n",
              "</div>"
            ],
            "text/plain": [
              "   Kidhome  Teenhome\n",
              "0        0         0\n",
              "1        1         1\n",
              "2        0         0"
            ]
          },
          "execution_count": 58,
          "metadata": {},
          "output_type": "execute_result"
        }
      ],
      "source": [
        "df[['Kidhome','Teenhome']].head(3)"
      ]
    },
    {
      "cell_type": "markdown",
      "metadata": {
        "id": "omf9D5ZjlVIT"
      },
      "source": [
        "We can comebine `Kidhome` and `Teenhome` and define as number of `Children`"
      ]
    },
    {
      "cell_type": "code",
      "execution_count": 59,
      "metadata": {
        "id": "MLv3nHiTlVIT"
      },
      "outputs": [],
      "source": [
        "df['Children'] = df['Kidhome'] + df['Teenhome']"
      ]
    },
    {
      "cell_type": "code",
      "execution_count": 60,
      "metadata": {
        "id": "4YzgDVXWlVIU",
        "outputId": "c0f85954-f696-41cb-e1ef-d3c5c7369590"
      },
      "outputs": [
        {
          "data": {
            "text/plain": [
              "1    1117\n",
              "0     633\n",
              "2     416\n",
              "3      50\n",
              "Name: Children, dtype: int64"
            ]
          },
          "execution_count": 60,
          "metadata": {},
          "output_type": "execute_result"
        }
      ],
      "source": [
        "df['Children'].value_counts()"
      ]
    },
    {
      "cell_type": "markdown",
      "metadata": {
        "id": "HlYAABHqmrhJ"
      },
      "source": [
        "`Family_size` is assumed to be customer's status (1 if Single, 2 if Couple) + number of `Children`"
      ]
    },
    {
      "cell_type": "code",
      "execution_count": 61,
      "metadata": {
        "colab": {
          "base_uri": "https://localhost:8080/",
          "height": 165
        },
        "id": "-ZC6yceBmpPK",
        "outputId": "467f30fd-80d4-4f8c-8952-e976b427c579"
      },
      "outputs": [],
      "source": [
        "df['Family_size'] = df['Marital_Status'].apply(lambda x: 1 if x == 'Single' else 2) + df['Children']"
      ]
    },
    {
      "cell_type": "code",
      "execution_count": 62,
      "metadata": {},
      "outputs": [
        {
          "data": {
            "text/plain": [
              "3    880\n",
              "2    757\n",
              "4    296\n",
              "1    252\n",
              "5     31\n",
              "Name: Family_size, dtype: int64"
            ]
          },
          "execution_count": 62,
          "metadata": {},
          "output_type": "execute_result"
        }
      ],
      "source": [
        "df['Family_size'].value_counts()"
      ]
    },
    {
      "cell_type": "markdown",
      "metadata": {
        "id": "Rpv4omIelVIS"
      },
      "source": [
        "## Clean `Education` column"
      ]
    },
    {
      "cell_type": "code",
      "execution_count": 63,
      "metadata": {
        "id": "A84C6fF2lVIS",
        "outputId": "81c0b07a-b93d-4d2a-92b7-ca58fe109f81"
      },
      "outputs": [
        {
          "data": {
            "text/plain": [
              "Graduation    1116\n",
              "PhD            481\n",
              "Master         365\n",
              "2n Cycle       200\n",
              "Basic           54\n",
              "Name: Education, dtype: int64"
            ]
          },
          "execution_count": 63,
          "metadata": {},
          "output_type": "execute_result"
        }
      ],
      "source": [
        "df['Education'].value_counts()"
      ]
    },
    {
      "cell_type": "markdown",
      "metadata": {
        "id": "PCfzDRstlVIS"
      },
      "source": [
        "Education can also be grouped into: `Undergraduate` and `Postgraduate`"
      ]
    },
    {
      "cell_type": "code",
      "execution_count": 64,
      "metadata": {
        "id": "-P4sC426lVIS"
      },
      "outputs": [],
      "source": [
        "clean_education = {\n",
        "    'Graduation':   'Postgraduate',\n",
        "    'PhD':          'Postgraduate',\n",
        "    'Master':       'Postgraduate',\n",
        "    'Basic':        'Undergraduate',\n",
        "    '2n Cycle':     'Undergraduate'\n",
        "}\n",
        "df['Education'] = df['Education'].replace(clean_education)"
      ]
    },
    {
      "cell_type": "code",
      "execution_count": 65,
      "metadata": {
        "id": "t9DmqKUilVIT",
        "outputId": "534e8d8c-0bb4-4904-e5da-a4ae69aae47a"
      },
      "outputs": [
        {
          "data": {
            "text/plain": [
              "Postgraduate     1962\n",
              "Undergraduate     254\n",
              "Name: Education, dtype: int64"
            ]
          },
          "execution_count": 65,
          "metadata": {},
          "output_type": "execute_result"
        }
      ],
      "source": [
        "df['Education'].value_counts()"
      ]
    },
    {
      "cell_type": "markdown",
      "metadata": {
        "id": "nKc7vbnRlVIU"
      },
      "source": [
        "## Define `Frequency` column"
      ]
    },
    {
      "cell_type": "code",
      "execution_count": 66,
      "metadata": {
        "id": "7pT4vOXmlVIU",
        "outputId": "a37a668b-e0cc-47b6-8f6a-4057dfdf9fa4"
      },
      "outputs": [
        {
          "data": {
            "text/html": [
              "<div>\n",
              "<style scoped>\n",
              "    .dataframe tbody tr th:only-of-type {\n",
              "        vertical-align: middle;\n",
              "    }\n",
              "\n",
              "    .dataframe tbody tr th {\n",
              "        vertical-align: top;\n",
              "    }\n",
              "\n",
              "    .dataframe thead th {\n",
              "        text-align: right;\n",
              "    }\n",
              "</style>\n",
              "<table border=\"1\" class=\"dataframe\">\n",
              "  <thead>\n",
              "    <tr style=\"text-align: right;\">\n",
              "      <th></th>\n",
              "      <th>NumWebPurchases</th>\n",
              "      <th>NumCatalogPurchases</th>\n",
              "      <th>NumStorePurchases</th>\n",
              "    </tr>\n",
              "  </thead>\n",
              "  <tbody>\n",
              "    <tr>\n",
              "      <th>0</th>\n",
              "      <td>8</td>\n",
              "      <td>10</td>\n",
              "      <td>4</td>\n",
              "    </tr>\n",
              "    <tr>\n",
              "      <th>1</th>\n",
              "      <td>1</td>\n",
              "      <td>1</td>\n",
              "      <td>2</td>\n",
              "    </tr>\n",
              "    <tr>\n",
              "      <th>2</th>\n",
              "      <td>8</td>\n",
              "      <td>2</td>\n",
              "      <td>10</td>\n",
              "    </tr>\n",
              "  </tbody>\n",
              "</table>\n",
              "</div>"
            ],
            "text/plain": [
              "   NumWebPurchases  NumCatalogPurchases  NumStorePurchases\n",
              "0                8                   10                  4\n",
              "1                1                    1                  2\n",
              "2                8                    2                 10"
            ]
          },
          "execution_count": 66,
          "metadata": {},
          "output_type": "execute_result"
        }
      ],
      "source": [
        "df[['NumWebPurchases', 'NumCatalogPurchases', 'NumStorePurchases']].head(3)"
      ]
    },
    {
      "cell_type": "markdown",
      "metadata": {
        "id": "0I5LqNbglVIa"
      },
      "source": [
        "We can comebine the times people made purchases through `Web`, `Catalog`, `Store` into one column `Frequency`"
      ]
    },
    {
      "cell_type": "code",
      "execution_count": 67,
      "metadata": {
        "id": "tqJn7TNrlVIb"
      },
      "outputs": [],
      "source": [
        "df['Frequency'] = (df['NumWebPurchases'] + df['NumCatalogPurchases'] + df['NumStorePurchases'])"
      ]
    },
    {
      "cell_type": "markdown",
      "metadata": {
        "id": "2jE0K8n_lVIb"
      },
      "source": [
        "## Define `Monetary` column"
      ]
    },
    {
      "cell_type": "code",
      "execution_count": 68,
      "metadata": {
        "id": "1zDQWb64lVIb",
        "outputId": "16a4591d-1c15-4b33-85ce-29664d10c2f8"
      },
      "outputs": [
        {
          "data": {
            "text/html": [
              "<div>\n",
              "<style scoped>\n",
              "    .dataframe tbody tr th:only-of-type {\n",
              "        vertical-align: middle;\n",
              "    }\n",
              "\n",
              "    .dataframe tbody tr th {\n",
              "        vertical-align: top;\n",
              "    }\n",
              "\n",
              "    .dataframe thead th {\n",
              "        text-align: right;\n",
              "    }\n",
              "</style>\n",
              "<table border=\"1\" class=\"dataframe\">\n",
              "  <thead>\n",
              "    <tr style=\"text-align: right;\">\n",
              "      <th></th>\n",
              "      <th>MntWines</th>\n",
              "      <th>MntFruits</th>\n",
              "      <th>MntMeatProducts</th>\n",
              "      <th>MntFishProducts</th>\n",
              "      <th>MntSweetProducts</th>\n",
              "      <th>MntGoldProds</th>\n",
              "    </tr>\n",
              "  </thead>\n",
              "  <tbody>\n",
              "    <tr>\n",
              "      <th>0</th>\n",
              "      <td>635</td>\n",
              "      <td>88</td>\n",
              "      <td>546</td>\n",
              "      <td>172</td>\n",
              "      <td>88</td>\n",
              "      <td>88</td>\n",
              "    </tr>\n",
              "    <tr>\n",
              "      <th>1</th>\n",
              "      <td>11</td>\n",
              "      <td>1</td>\n",
              "      <td>6</td>\n",
              "      <td>2</td>\n",
              "      <td>1</td>\n",
              "      <td>6</td>\n",
              "    </tr>\n",
              "    <tr>\n",
              "      <th>2</th>\n",
              "      <td>426</td>\n",
              "      <td>49</td>\n",
              "      <td>127</td>\n",
              "      <td>111</td>\n",
              "      <td>21</td>\n",
              "      <td>42</td>\n",
              "    </tr>\n",
              "  </tbody>\n",
              "</table>\n",
              "</div>"
            ],
            "text/plain": [
              "   MntWines  MntFruits  MntMeatProducts  MntFishProducts  MntSweetProducts  \\\n",
              "0       635         88              546              172                88   \n",
              "1        11          1                6                2                 1   \n",
              "2       426         49              127              111                21   \n",
              "\n",
              "   MntGoldProds  \n",
              "0            88  \n",
              "1             6  \n",
              "2            42  "
            ]
          },
          "execution_count": 68,
          "metadata": {},
          "output_type": "execute_result"
        }
      ],
      "source": [
        "df[[\"MntWines\", \"MntFruits\", \"MntMeatProducts\",\"MntFishProducts\", \"MntSweetProducts\", \"MntGoldProds\"]].head(3)"
      ]
    },
    {
      "cell_type": "markdown",
      "metadata": {
        "id": "rDw1B3a-lVIb"
      },
      "source": [
        "We combine all the amount spent for each product into 1 column `Amount_spent`"
      ]
    },
    {
      "cell_type": "code",
      "execution_count": 69,
      "metadata": {
        "id": "R_v2O40jlVIc"
      },
      "outputs": [],
      "source": [
        "df['Monetary'] = df[[\"MntWines\", \"MntFruits\", \"MntMeatProducts\",\"MntFishProducts\", \"MntSweetProducts\", \"MntGoldProds\"]].sum(axis=1)"
      ]
    },
    {
      "cell_type": "markdown",
      "metadata": {
        "id": "P0MaZzsDlVIc"
      },
      "source": [
        "## Define `Responder` column"
      ]
    },
    {
      "cell_type": "code",
      "execution_count": 70,
      "metadata": {
        "id": "NwmvecC-lVIc",
        "outputId": "199c71f1-8cd1-478e-bbdb-e68e9e80a452"
      },
      "outputs": [
        {
          "data": {
            "text/html": [
              "<div>\n",
              "<style scoped>\n",
              "    .dataframe tbody tr th:only-of-type {\n",
              "        vertical-align: middle;\n",
              "    }\n",
              "\n",
              "    .dataframe tbody tr th {\n",
              "        vertical-align: top;\n",
              "    }\n",
              "\n",
              "    .dataframe thead th {\n",
              "        text-align: right;\n",
              "    }\n",
              "</style>\n",
              "<table border=\"1\" class=\"dataframe\">\n",
              "  <thead>\n",
              "    <tr style=\"text-align: right;\">\n",
              "      <th></th>\n",
              "      <th>AcceptedCmp1</th>\n",
              "      <th>AcceptedCmp2</th>\n",
              "      <th>AcceptedCmp3</th>\n",
              "      <th>AcceptedCmp4</th>\n",
              "      <th>AcceptedCmp5</th>\n",
              "      <th>Response</th>\n",
              "    </tr>\n",
              "  </thead>\n",
              "  <tbody>\n",
              "    <tr>\n",
              "      <th>0</th>\n",
              "      <td>0</td>\n",
              "      <td>0</td>\n",
              "      <td>0</td>\n",
              "      <td>0</td>\n",
              "      <td>0</td>\n",
              "      <td>1</td>\n",
              "    </tr>\n",
              "    <tr>\n",
              "      <th>1</th>\n",
              "      <td>0</td>\n",
              "      <td>0</td>\n",
              "      <td>0</td>\n",
              "      <td>0</td>\n",
              "      <td>0</td>\n",
              "      <td>0</td>\n",
              "    </tr>\n",
              "    <tr>\n",
              "      <th>2</th>\n",
              "      <td>0</td>\n",
              "      <td>0</td>\n",
              "      <td>0</td>\n",
              "      <td>0</td>\n",
              "      <td>0</td>\n",
              "      <td>0</td>\n",
              "    </tr>\n",
              "  </tbody>\n",
              "</table>\n",
              "</div>"
            ],
            "text/plain": [
              "   AcceptedCmp1  AcceptedCmp2  AcceptedCmp3  AcceptedCmp4  AcceptedCmp5  \\\n",
              "0             0             0             0             0             0   \n",
              "1             0             0             0             0             0   \n",
              "2             0             0             0             0             0   \n",
              "\n",
              "   Response  \n",
              "0         1  \n",
              "1         0  \n",
              "2         0  "
            ]
          },
          "execution_count": 70,
          "metadata": {},
          "output_type": "execute_result"
        }
      ],
      "source": [
        "df[['AcceptedCmp1','AcceptedCmp2','AcceptedCmp3','AcceptedCmp4','AcceptedCmp5','Response']].head(3)"
      ]
    },
    {
      "cell_type": "markdown",
      "metadata": {
        "id": "UnsjHpNDlVIc"
      },
      "source": [
        "There are 6 columns on Customer accepted the offer in the promotion campaign. We can combine them together, then segment as below:\n",
        "- Accepted 4 to 6 offers: High responder\n",
        "- Accepted 1 to 3 offers: Low responder\n",
        "- Not accepted any offers: Non-responder"
      ]
    },
    {
      "cell_type": "code",
      "execution_count": 71,
      "metadata": {
        "id": "heNOMAPelVId"
      },
      "outputs": [],
      "source": [
        "# Calculate sum promotion accepted\n",
        "df['PromoAccepted'] = df[['AcceptedCmp1','AcceptedCmp2','AcceptedCmp3','AcceptedCmp4','AcceptedCmp5','Response']].sum(axis=1)\n",
        "\n",
        "# Responder segments\n",
        "df['Responder'] = 'None'\n",
        "df.loc[df['PromoAccepted'].between(1,3), 'Responder'] = 'Low'\n",
        "df.loc[df['PromoAccepted'] >= 4, 'Responder'] = 'High'"
      ]
    },
    {
      "cell_type": "code",
      "execution_count": 72,
      "metadata": {
        "id": "6nk1LUPilVId",
        "outputId": "69c7ef88-2a02-464c-937b-755e3f732798"
      },
      "outputs": [
        {
          "data": {
            "text/plain": [
              "Responder  PromoAccepted\n",
              "High       4                  36\n",
              "           5                  10\n",
              "Low        1                 369\n",
              "           2                 139\n",
              "           3                  51\n",
              "None       0                1611\n",
              "Name: ID, dtype: int64"
            ]
          },
          "execution_count": 72,
          "metadata": {},
          "output_type": "execute_result"
        }
      ],
      "source": [
        "df.groupby(['Responder','PromoAccepted'])['ID'].count()"
      ]
    },
    {
      "cell_type": "markdown",
      "metadata": {
        "id": "9Z1lt0EulVIf"
      },
      "source": [
        "## Output cleaned data"
      ]
    },
    {
      "cell_type": "code",
      "execution_count": 73,
      "metadata": {
        "id": "HX4WrsRflVIg",
        "outputId": "cc44d334-013e-48a4-d963-439f6181f918"
      },
      "outputs": [
        {
          "data": {
            "text/html": [
              "<div>\n",
              "<style scoped>\n",
              "    .dataframe tbody tr th:only-of-type {\n",
              "        vertical-align: middle;\n",
              "    }\n",
              "\n",
              "    .dataframe tbody tr th {\n",
              "        vertical-align: top;\n",
              "    }\n",
              "\n",
              "    .dataframe thead th {\n",
              "        text-align: right;\n",
              "    }\n",
              "</style>\n",
              "<table border=\"1\" class=\"dataframe\">\n",
              "  <thead>\n",
              "    <tr style=\"text-align: right;\">\n",
              "      <th></th>\n",
              "      <th>ID</th>\n",
              "      <th>Year_Birth</th>\n",
              "      <th>Education</th>\n",
              "      <th>Marital_Status</th>\n",
              "      <th>Income</th>\n",
              "      <th>Kidhome</th>\n",
              "      <th>Teenhome</th>\n",
              "      <th>Dt_Customer</th>\n",
              "      <th>Recency</th>\n",
              "      <th>MntWines</th>\n",
              "      <th>MntFruits</th>\n",
              "      <th>MntMeatProducts</th>\n",
              "      <th>MntFishProducts</th>\n",
              "      <th>MntSweetProducts</th>\n",
              "      <th>MntGoldProds</th>\n",
              "      <th>NumDealsPurchases</th>\n",
              "      <th>NumWebPurchases</th>\n",
              "      <th>NumCatalogPurchases</th>\n",
              "      <th>NumStorePurchases</th>\n",
              "      <th>NumWebVisitsMonth</th>\n",
              "      <th>AcceptedCmp3</th>\n",
              "      <th>AcceptedCmp4</th>\n",
              "      <th>AcceptedCmp5</th>\n",
              "      <th>AcceptedCmp1</th>\n",
              "      <th>AcceptedCmp2</th>\n",
              "      <th>Complain</th>\n",
              "      <th>Z_CostContact</th>\n",
              "      <th>Z_Revenue</th>\n",
              "      <th>Response</th>\n",
              "      <th>Age</th>\n",
              "      <th>lifespan_months</th>\n",
              "      <th>Children</th>\n",
              "      <th>Family_size</th>\n",
              "      <th>Frequency</th>\n",
              "      <th>Monetary</th>\n",
              "      <th>PromoAccepted</th>\n",
              "      <th>Responder</th>\n",
              "    </tr>\n",
              "  </thead>\n",
              "  <tbody>\n",
              "    <tr>\n",
              "      <th>0</th>\n",
              "      <td>5524</td>\n",
              "      <td>1957</td>\n",
              "      <td>Postgraduate</td>\n",
              "      <td>Single</td>\n",
              "      <td>58138.0</td>\n",
              "      <td>0</td>\n",
              "      <td>0</td>\n",
              "      <td>2012-09-04</td>\n",
              "      <td>58</td>\n",
              "      <td>635</td>\n",
              "      <td>88</td>\n",
              "      <td>546</td>\n",
              "      <td>172</td>\n",
              "      <td>88</td>\n",
              "      <td>88</td>\n",
              "      <td>3</td>\n",
              "      <td>8</td>\n",
              "      <td>10</td>\n",
              "      <td>4</td>\n",
              "      <td>7</td>\n",
              "      <td>0</td>\n",
              "      <td>0</td>\n",
              "      <td>0</td>\n",
              "      <td>0</td>\n",
              "      <td>0</td>\n",
              "      <td>0</td>\n",
              "      <td>3</td>\n",
              "      <td>11</td>\n",
              "      <td>1</td>\n",
              "      <td>57</td>\n",
              "      <td>25</td>\n",
              "      <td>0</td>\n",
              "      <td>1</td>\n",
              "      <td>22</td>\n",
              "      <td>1617</td>\n",
              "      <td>1</td>\n",
              "      <td>Low</td>\n",
              "    </tr>\n",
              "    <tr>\n",
              "      <th>1</th>\n",
              "      <td>2174</td>\n",
              "      <td>1954</td>\n",
              "      <td>Postgraduate</td>\n",
              "      <td>Single</td>\n",
              "      <td>46344.0</td>\n",
              "      <td>1</td>\n",
              "      <td>1</td>\n",
              "      <td>2014-03-08</td>\n",
              "      <td>38</td>\n",
              "      <td>11</td>\n",
              "      <td>1</td>\n",
              "      <td>6</td>\n",
              "      <td>2</td>\n",
              "      <td>1</td>\n",
              "      <td>6</td>\n",
              "      <td>2</td>\n",
              "      <td>1</td>\n",
              "      <td>1</td>\n",
              "      <td>2</td>\n",
              "      <td>5</td>\n",
              "      <td>0</td>\n",
              "      <td>0</td>\n",
              "      <td>0</td>\n",
              "      <td>0</td>\n",
              "      <td>0</td>\n",
              "      <td>0</td>\n",
              "      <td>3</td>\n",
              "      <td>11</td>\n",
              "      <td>0</td>\n",
              "      <td>60</td>\n",
              "      <td>7</td>\n",
              "      <td>2</td>\n",
              "      <td>3</td>\n",
              "      <td>4</td>\n",
              "      <td>27</td>\n",
              "      <td>0</td>\n",
              "      <td>None</td>\n",
              "    </tr>\n",
              "    <tr>\n",
              "      <th>2</th>\n",
              "      <td>4141</td>\n",
              "      <td>1965</td>\n",
              "      <td>Postgraduate</td>\n",
              "      <td>Couple</td>\n",
              "      <td>71613.0</td>\n",
              "      <td>0</td>\n",
              "      <td>0</td>\n",
              "      <td>2013-08-21</td>\n",
              "      <td>26</td>\n",
              "      <td>426</td>\n",
              "      <td>49</td>\n",
              "      <td>127</td>\n",
              "      <td>111</td>\n",
              "      <td>21</td>\n",
              "      <td>42</td>\n",
              "      <td>1</td>\n",
              "      <td>8</td>\n",
              "      <td>2</td>\n",
              "      <td>10</td>\n",
              "      <td>4</td>\n",
              "      <td>0</td>\n",
              "      <td>0</td>\n",
              "      <td>0</td>\n",
              "      <td>0</td>\n",
              "      <td>0</td>\n",
              "      <td>0</td>\n",
              "      <td>3</td>\n",
              "      <td>11</td>\n",
              "      <td>0</td>\n",
              "      <td>49</td>\n",
              "      <td>13</td>\n",
              "      <td>0</td>\n",
              "      <td>2</td>\n",
              "      <td>20</td>\n",
              "      <td>776</td>\n",
              "      <td>0</td>\n",
              "      <td>None</td>\n",
              "    </tr>\n",
              "  </tbody>\n",
              "</table>\n",
              "</div>"
            ],
            "text/plain": [
              "     ID  Year_Birth     Education Marital_Status   Income  Kidhome  Teenhome  \\\n",
              "0  5524        1957  Postgraduate         Single  58138.0        0         0   \n",
              "1  2174        1954  Postgraduate         Single  46344.0        1         1   \n",
              "2  4141        1965  Postgraduate         Couple  71613.0        0         0   \n",
              "\n",
              "  Dt_Customer  Recency  MntWines  MntFruits  MntMeatProducts  MntFishProducts  \\\n",
              "0  2012-09-04       58       635         88              546              172   \n",
              "1  2014-03-08       38        11          1                6                2   \n",
              "2  2013-08-21       26       426         49              127              111   \n",
              "\n",
              "   MntSweetProducts  MntGoldProds  NumDealsPurchases  NumWebPurchases  \\\n",
              "0                88            88                  3                8   \n",
              "1                 1             6                  2                1   \n",
              "2                21            42                  1                8   \n",
              "\n",
              "   NumCatalogPurchases  NumStorePurchases  NumWebVisitsMonth  AcceptedCmp3  \\\n",
              "0                   10                  4                  7             0   \n",
              "1                    1                  2                  5             0   \n",
              "2                    2                 10                  4             0   \n",
              "\n",
              "   AcceptedCmp4  AcceptedCmp5  AcceptedCmp1  AcceptedCmp2  Complain  \\\n",
              "0             0             0             0             0         0   \n",
              "1             0             0             0             0         0   \n",
              "2             0             0             0             0         0   \n",
              "\n",
              "   Z_CostContact  Z_Revenue  Response  Age  lifespan_months  Children  \\\n",
              "0              3         11         1   57               25         0   \n",
              "1              3         11         0   60                7         2   \n",
              "2              3         11         0   49               13         0   \n",
              "\n",
              "   Family_size  Frequency  Monetary  PromoAccepted Responder  \n",
              "0            1         22      1617              1       Low  \n",
              "1            3          4        27              0      None  \n",
              "2            2         20       776              0      None  "
            ]
          },
          "execution_count": 73,
          "metadata": {},
          "output_type": "execute_result"
        }
      ],
      "source": [
        "df.head(3)"
      ]
    },
    {
      "cell_type": "code",
      "execution_count": 74,
      "metadata": {
        "id": "3my50k87lVIg",
        "outputId": "50b22a80-ac4b-4343-b556-e91207f9956f"
      },
      "outputs": [
        {
          "data": {
            "text/plain": [
              "Index(['ID', 'Year_Birth', 'Education', 'Marital_Status', 'Income', 'Kidhome',\n",
              "       'Teenhome', 'Dt_Customer', 'Recency', 'MntWines', 'MntFruits',\n",
              "       'MntMeatProducts', 'MntFishProducts', 'MntSweetProducts',\n",
              "       'MntGoldProds', 'NumDealsPurchases', 'NumWebPurchases',\n",
              "       'NumCatalogPurchases', 'NumStorePurchases', 'NumWebVisitsMonth',\n",
              "       'AcceptedCmp3', 'AcceptedCmp4', 'AcceptedCmp5', 'AcceptedCmp1',\n",
              "       'AcceptedCmp2', 'Complain', 'Z_CostContact', 'Z_Revenue', 'Response',\n",
              "       'Age', 'lifespan_months', 'Children', 'Family_size', 'Frequency',\n",
              "       'Monetary', 'PromoAccepted', 'Responder'],\n",
              "      dtype='object')"
            ]
          },
          "execution_count": 74,
          "metadata": {},
          "output_type": "execute_result"
        }
      ],
      "source": [
        "df.columns"
      ]
    },
    {
      "cell_type": "code",
      "execution_count": 76,
      "metadata": {
        "id": "BSALIaR4lVIg"
      },
      "outputs": [],
      "source": [
        "customer_data = df[['ID', 'Age','Education','Marital_Status','Children','Family_size','Income','lifespan_months']].copy()\n",
        "rfm_data = df[['ID','Recency','Frequency','Monetary']].copy()\n",
        "marketing_data = df[['ID','NumDealsPurchases','PromoAccepted','Responder']].copy()"
      ]
    },
    {
      "cell_type": "code",
      "execution_count": 77,
      "metadata": {
        "id": "ZUwQLd_rlVIh",
        "outputId": "0112e47a-c393-4f71-b782-bbb99fafe513"
      },
      "outputs": [
        {
          "data": {
            "text/html": [
              "<div>\n",
              "<style scoped>\n",
              "    .dataframe tbody tr th:only-of-type {\n",
              "        vertical-align: middle;\n",
              "    }\n",
              "\n",
              "    .dataframe tbody tr th {\n",
              "        vertical-align: top;\n",
              "    }\n",
              "\n",
              "    .dataframe thead th {\n",
              "        text-align: right;\n",
              "    }\n",
              "</style>\n",
              "<table border=\"1\" class=\"dataframe\">\n",
              "  <thead>\n",
              "    <tr style=\"text-align: right;\">\n",
              "      <th></th>\n",
              "      <th>ID</th>\n",
              "      <th>Age</th>\n",
              "      <th>Education</th>\n",
              "      <th>Marital_Status</th>\n",
              "      <th>Children</th>\n",
              "      <th>Family_size</th>\n",
              "      <th>Income</th>\n",
              "      <th>lifespan_months</th>\n",
              "    </tr>\n",
              "  </thead>\n",
              "  <tbody>\n",
              "    <tr>\n",
              "      <th>0</th>\n",
              "      <td>5524</td>\n",
              "      <td>57</td>\n",
              "      <td>Postgraduate</td>\n",
              "      <td>Single</td>\n",
              "      <td>0</td>\n",
              "      <td>1</td>\n",
              "      <td>58138.0</td>\n",
              "      <td>25</td>\n",
              "    </tr>\n",
              "    <tr>\n",
              "      <th>1</th>\n",
              "      <td>2174</td>\n",
              "      <td>60</td>\n",
              "      <td>Postgraduate</td>\n",
              "      <td>Single</td>\n",
              "      <td>2</td>\n",
              "      <td>3</td>\n",
              "      <td>46344.0</td>\n",
              "      <td>7</td>\n",
              "    </tr>\n",
              "    <tr>\n",
              "      <th>2</th>\n",
              "      <td>4141</td>\n",
              "      <td>49</td>\n",
              "      <td>Postgraduate</td>\n",
              "      <td>Couple</td>\n",
              "      <td>0</td>\n",
              "      <td>2</td>\n",
              "      <td>71613.0</td>\n",
              "      <td>13</td>\n",
              "    </tr>\n",
              "    <tr>\n",
              "      <th>3</th>\n",
              "      <td>6182</td>\n",
              "      <td>30</td>\n",
              "      <td>Postgraduate</td>\n",
              "      <td>Couple</td>\n",
              "      <td>1</td>\n",
              "      <td>3</td>\n",
              "      <td>26646.0</td>\n",
              "      <td>7</td>\n",
              "    </tr>\n",
              "    <tr>\n",
              "      <th>4</th>\n",
              "      <td>5324</td>\n",
              "      <td>33</td>\n",
              "      <td>Postgraduate</td>\n",
              "      <td>Couple</td>\n",
              "      <td>1</td>\n",
              "      <td>3</td>\n",
              "      <td>58293.0</td>\n",
              "      <td>8</td>\n",
              "    </tr>\n",
              "    <tr>\n",
              "      <th>...</th>\n",
              "      <td>...</td>\n",
              "      <td>...</td>\n",
              "      <td>...</td>\n",
              "      <td>...</td>\n",
              "      <td>...</td>\n",
              "      <td>...</td>\n",
              "      <td>...</td>\n",
              "      <td>...</td>\n",
              "    </tr>\n",
              "    <tr>\n",
              "      <th>2235</th>\n",
              "      <td>10870</td>\n",
              "      <td>47</td>\n",
              "      <td>Postgraduate</td>\n",
              "      <td>Couple</td>\n",
              "      <td>1</td>\n",
              "      <td>3</td>\n",
              "      <td>61223.0</td>\n",
              "      <td>15</td>\n",
              "    </tr>\n",
              "    <tr>\n",
              "      <th>2236</th>\n",
              "      <td>4001</td>\n",
              "      <td>68</td>\n",
              "      <td>Postgraduate</td>\n",
              "      <td>Couple</td>\n",
              "      <td>3</td>\n",
              "      <td>5</td>\n",
              "      <td>64014.0</td>\n",
              "      <td>3</td>\n",
              "    </tr>\n",
              "    <tr>\n",
              "      <th>2237</th>\n",
              "      <td>7270</td>\n",
              "      <td>33</td>\n",
              "      <td>Postgraduate</td>\n",
              "      <td>Single</td>\n",
              "      <td>0</td>\n",
              "      <td>1</td>\n",
              "      <td>56981.0</td>\n",
              "      <td>8</td>\n",
              "    </tr>\n",
              "    <tr>\n",
              "      <th>2238</th>\n",
              "      <td>8235</td>\n",
              "      <td>58</td>\n",
              "      <td>Postgraduate</td>\n",
              "      <td>Couple</td>\n",
              "      <td>1</td>\n",
              "      <td>3</td>\n",
              "      <td>69245.0</td>\n",
              "      <td>8</td>\n",
              "    </tr>\n",
              "    <tr>\n",
              "      <th>2239</th>\n",
              "      <td>9405</td>\n",
              "      <td>60</td>\n",
              "      <td>Postgraduate</td>\n",
              "      <td>Couple</td>\n",
              "      <td>2</td>\n",
              "      <td>4</td>\n",
              "      <td>52869.0</td>\n",
              "      <td>23</td>\n",
              "    </tr>\n",
              "  </tbody>\n",
              "</table>\n",
              "<p>2216 rows × 8 columns</p>\n",
              "</div>"
            ],
            "text/plain": [
              "         ID  Age     Education Marital_Status  Children  Family_size   Income  \\\n",
              "0      5524   57  Postgraduate         Single         0            1  58138.0   \n",
              "1      2174   60  Postgraduate         Single         2            3  46344.0   \n",
              "2      4141   49  Postgraduate         Couple         0            2  71613.0   \n",
              "3      6182   30  Postgraduate         Couple         1            3  26646.0   \n",
              "4      5324   33  Postgraduate         Couple         1            3  58293.0   \n",
              "...     ...  ...           ...            ...       ...          ...      ...   \n",
              "2235  10870   47  Postgraduate         Couple         1            3  61223.0   \n",
              "2236   4001   68  Postgraduate         Couple         3            5  64014.0   \n",
              "2237   7270   33  Postgraduate         Single         0            1  56981.0   \n",
              "2238   8235   58  Postgraduate         Couple         1            3  69245.0   \n",
              "2239   9405   60  Postgraduate         Couple         2            4  52869.0   \n",
              "\n",
              "      lifespan_months  \n",
              "0                  25  \n",
              "1                   7  \n",
              "2                  13  \n",
              "3                   7  \n",
              "4                   8  \n",
              "...               ...  \n",
              "2235               15  \n",
              "2236                3  \n",
              "2237                8  \n",
              "2238                8  \n",
              "2239               23  \n",
              "\n",
              "[2216 rows x 8 columns]"
            ]
          },
          "execution_count": 77,
          "metadata": {},
          "output_type": "execute_result"
        }
      ],
      "source": [
        "customer_data"
      ]
    },
    {
      "cell_type": "code",
      "execution_count": 78,
      "metadata": {},
      "outputs": [
        {
          "data": {
            "text/html": [
              "<div>\n",
              "<style scoped>\n",
              "    .dataframe tbody tr th:only-of-type {\n",
              "        vertical-align: middle;\n",
              "    }\n",
              "\n",
              "    .dataframe tbody tr th {\n",
              "        vertical-align: top;\n",
              "    }\n",
              "\n",
              "    .dataframe thead th {\n",
              "        text-align: right;\n",
              "    }\n",
              "</style>\n",
              "<table border=\"1\" class=\"dataframe\">\n",
              "  <thead>\n",
              "    <tr style=\"text-align: right;\">\n",
              "      <th></th>\n",
              "      <th>ID</th>\n",
              "      <th>Recency</th>\n",
              "      <th>Frequency</th>\n",
              "      <th>Monetary</th>\n",
              "    </tr>\n",
              "  </thead>\n",
              "  <tbody>\n",
              "    <tr>\n",
              "      <th>0</th>\n",
              "      <td>5524</td>\n",
              "      <td>58</td>\n",
              "      <td>22</td>\n",
              "      <td>1617</td>\n",
              "    </tr>\n",
              "    <tr>\n",
              "      <th>1</th>\n",
              "      <td>2174</td>\n",
              "      <td>38</td>\n",
              "      <td>4</td>\n",
              "      <td>27</td>\n",
              "    </tr>\n",
              "    <tr>\n",
              "      <th>2</th>\n",
              "      <td>4141</td>\n",
              "      <td>26</td>\n",
              "      <td>20</td>\n",
              "      <td>776</td>\n",
              "    </tr>\n",
              "    <tr>\n",
              "      <th>3</th>\n",
              "      <td>6182</td>\n",
              "      <td>26</td>\n",
              "      <td>6</td>\n",
              "      <td>53</td>\n",
              "    </tr>\n",
              "    <tr>\n",
              "      <th>4</th>\n",
              "      <td>5324</td>\n",
              "      <td>94</td>\n",
              "      <td>14</td>\n",
              "      <td>422</td>\n",
              "    </tr>\n",
              "    <tr>\n",
              "      <th>...</th>\n",
              "      <td>...</td>\n",
              "      <td>...</td>\n",
              "      <td>...</td>\n",
              "      <td>...</td>\n",
              "    </tr>\n",
              "    <tr>\n",
              "      <th>2235</th>\n",
              "      <td>10870</td>\n",
              "      <td>46</td>\n",
              "      <td>16</td>\n",
              "      <td>1341</td>\n",
              "    </tr>\n",
              "    <tr>\n",
              "      <th>2236</th>\n",
              "      <td>4001</td>\n",
              "      <td>56</td>\n",
              "      <td>15</td>\n",
              "      <td>444</td>\n",
              "    </tr>\n",
              "    <tr>\n",
              "      <th>2237</th>\n",
              "      <td>7270</td>\n",
              "      <td>91</td>\n",
              "      <td>18</td>\n",
              "      <td>1241</td>\n",
              "    </tr>\n",
              "    <tr>\n",
              "      <th>2238</th>\n",
              "      <td>8235</td>\n",
              "      <td>8</td>\n",
              "      <td>21</td>\n",
              "      <td>843</td>\n",
              "    </tr>\n",
              "    <tr>\n",
              "      <th>2239</th>\n",
              "      <td>9405</td>\n",
              "      <td>40</td>\n",
              "      <td>8</td>\n",
              "      <td>172</td>\n",
              "    </tr>\n",
              "  </tbody>\n",
              "</table>\n",
              "<p>2216 rows × 4 columns</p>\n",
              "</div>"
            ],
            "text/plain": [
              "         ID  Recency  Frequency  Monetary\n",
              "0      5524       58         22      1617\n",
              "1      2174       38          4        27\n",
              "2      4141       26         20       776\n",
              "3      6182       26          6        53\n",
              "4      5324       94         14       422\n",
              "...     ...      ...        ...       ...\n",
              "2235  10870       46         16      1341\n",
              "2236   4001       56         15       444\n",
              "2237   7270       91         18      1241\n",
              "2238   8235        8         21       843\n",
              "2239   9405       40          8       172\n",
              "\n",
              "[2216 rows x 4 columns]"
            ]
          },
          "execution_count": 78,
          "metadata": {},
          "output_type": "execute_result"
        }
      ],
      "source": [
        "rfm_data"
      ]
    },
    {
      "cell_type": "code",
      "execution_count": 79,
      "metadata": {},
      "outputs": [
        {
          "data": {
            "text/html": [
              "<div>\n",
              "<style scoped>\n",
              "    .dataframe tbody tr th:only-of-type {\n",
              "        vertical-align: middle;\n",
              "    }\n",
              "\n",
              "    .dataframe tbody tr th {\n",
              "        vertical-align: top;\n",
              "    }\n",
              "\n",
              "    .dataframe thead th {\n",
              "        text-align: right;\n",
              "    }\n",
              "</style>\n",
              "<table border=\"1\" class=\"dataframe\">\n",
              "  <thead>\n",
              "    <tr style=\"text-align: right;\">\n",
              "      <th></th>\n",
              "      <th>ID</th>\n",
              "      <th>NumDealsPurchases</th>\n",
              "      <th>PromoAccepted</th>\n",
              "      <th>Responder</th>\n",
              "    </tr>\n",
              "  </thead>\n",
              "  <tbody>\n",
              "    <tr>\n",
              "      <th>0</th>\n",
              "      <td>5524</td>\n",
              "      <td>3</td>\n",
              "      <td>1</td>\n",
              "      <td>Low</td>\n",
              "    </tr>\n",
              "    <tr>\n",
              "      <th>1</th>\n",
              "      <td>2174</td>\n",
              "      <td>2</td>\n",
              "      <td>0</td>\n",
              "      <td>None</td>\n",
              "    </tr>\n",
              "    <tr>\n",
              "      <th>2</th>\n",
              "      <td>4141</td>\n",
              "      <td>1</td>\n",
              "      <td>0</td>\n",
              "      <td>None</td>\n",
              "    </tr>\n",
              "    <tr>\n",
              "      <th>3</th>\n",
              "      <td>6182</td>\n",
              "      <td>2</td>\n",
              "      <td>0</td>\n",
              "      <td>None</td>\n",
              "    </tr>\n",
              "    <tr>\n",
              "      <th>4</th>\n",
              "      <td>5324</td>\n",
              "      <td>5</td>\n",
              "      <td>0</td>\n",
              "      <td>None</td>\n",
              "    </tr>\n",
              "    <tr>\n",
              "      <th>...</th>\n",
              "      <td>...</td>\n",
              "      <td>...</td>\n",
              "      <td>...</td>\n",
              "      <td>...</td>\n",
              "    </tr>\n",
              "    <tr>\n",
              "      <th>2235</th>\n",
              "      <td>10870</td>\n",
              "      <td>2</td>\n",
              "      <td>0</td>\n",
              "      <td>None</td>\n",
              "    </tr>\n",
              "    <tr>\n",
              "      <th>2236</th>\n",
              "      <td>4001</td>\n",
              "      <td>7</td>\n",
              "      <td>1</td>\n",
              "      <td>Low</td>\n",
              "    </tr>\n",
              "    <tr>\n",
              "      <th>2237</th>\n",
              "      <td>7270</td>\n",
              "      <td>1</td>\n",
              "      <td>1</td>\n",
              "      <td>Low</td>\n",
              "    </tr>\n",
              "    <tr>\n",
              "      <th>2238</th>\n",
              "      <td>8235</td>\n",
              "      <td>2</td>\n",
              "      <td>0</td>\n",
              "      <td>None</td>\n",
              "    </tr>\n",
              "    <tr>\n",
              "      <th>2239</th>\n",
              "      <td>9405</td>\n",
              "      <td>3</td>\n",
              "      <td>1</td>\n",
              "      <td>Low</td>\n",
              "    </tr>\n",
              "  </tbody>\n",
              "</table>\n",
              "<p>2216 rows × 4 columns</p>\n",
              "</div>"
            ],
            "text/plain": [
              "         ID  NumDealsPurchases  PromoAccepted Responder\n",
              "0      5524                  3              1       Low\n",
              "1      2174                  2              0      None\n",
              "2      4141                  1              0      None\n",
              "3      6182                  2              0      None\n",
              "4      5324                  5              0      None\n",
              "...     ...                ...            ...       ...\n",
              "2235  10870                  2              0      None\n",
              "2236   4001                  7              1       Low\n",
              "2237   7270                  1              1       Low\n",
              "2238   8235                  2              0      None\n",
              "2239   9405                  3              1       Low\n",
              "\n",
              "[2216 rows x 4 columns]"
            ]
          },
          "execution_count": 79,
          "metadata": {},
          "output_type": "execute_result"
        }
      ],
      "source": [
        "marketing_data"
      ]
    },
    {
      "cell_type": "markdown",
      "metadata": {},
      "source": [
        "# 3 - RFM modeling"
      ]
    },
    {
      "cell_type": "markdown",
      "metadata": {},
      "source": [
        "From `rfm_data` we need to add score for each values. The method using here will be:\n",
        "- Define score for `Recency`, `Frequency` and `Monetary` from 1 to 5\n",
        "- Each score is the evenly separated range for each columns\n",
        "- Based on `Recency_score` and `Frequency_score`, the results are defined below\n",
        "\n",
        "| Segment | Frequency_score | Recency_score |\n",
        "|---|:---:|:---:|\n",
        "| Champion | 5 | 5 |\n",
        "| Loyal Customer | 5 or 4 | 3 or 4 |\n",
        "| Potential Customer | 3 or 2 | 5 or 4 |\n",
        "| Need Attention | 3 | 3 |\n",
        "| New Customer | 1 | 5 |\n",
        "| Promising | 1 | 4 |\n",
        "| About to sleep | 2 or 1 | 3 |\n",
        "| Can’t loose them | 5 | 1 or 2 |\n",
        "| At risk | 4 or 3 | 1 or 2 |\n",
        "| Hibernating | 1 or 2 | 1 or 2 |"
      ]
    },
    {
      "cell_type": "code",
      "execution_count": 80,
      "metadata": {},
      "outputs": [
        {
          "data": {
            "text/html": [
              "<div>\n",
              "<style scoped>\n",
              "    .dataframe tbody tr th:only-of-type {\n",
              "        vertical-align: middle;\n",
              "    }\n",
              "\n",
              "    .dataframe tbody tr th {\n",
              "        vertical-align: top;\n",
              "    }\n",
              "\n",
              "    .dataframe thead th {\n",
              "        text-align: right;\n",
              "    }\n",
              "</style>\n",
              "<table border=\"1\" class=\"dataframe\">\n",
              "  <thead>\n",
              "    <tr style=\"text-align: right;\">\n",
              "      <th></th>\n",
              "      <th>ID</th>\n",
              "      <th>Recency</th>\n",
              "      <th>Frequency</th>\n",
              "      <th>Monetary</th>\n",
              "    </tr>\n",
              "  </thead>\n",
              "  <tbody>\n",
              "    <tr>\n",
              "      <th>0</th>\n",
              "      <td>5524</td>\n",
              "      <td>58</td>\n",
              "      <td>22</td>\n",
              "      <td>1617</td>\n",
              "    </tr>\n",
              "    <tr>\n",
              "      <th>1</th>\n",
              "      <td>2174</td>\n",
              "      <td>38</td>\n",
              "      <td>4</td>\n",
              "      <td>27</td>\n",
              "    </tr>\n",
              "    <tr>\n",
              "      <th>2</th>\n",
              "      <td>4141</td>\n",
              "      <td>26</td>\n",
              "      <td>20</td>\n",
              "      <td>776</td>\n",
              "    </tr>\n",
              "    <tr>\n",
              "      <th>3</th>\n",
              "      <td>6182</td>\n",
              "      <td>26</td>\n",
              "      <td>6</td>\n",
              "      <td>53</td>\n",
              "    </tr>\n",
              "    <tr>\n",
              "      <th>4</th>\n",
              "      <td>5324</td>\n",
              "      <td>94</td>\n",
              "      <td>14</td>\n",
              "      <td>422</td>\n",
              "    </tr>\n",
              "    <tr>\n",
              "      <th>...</th>\n",
              "      <td>...</td>\n",
              "      <td>...</td>\n",
              "      <td>...</td>\n",
              "      <td>...</td>\n",
              "    </tr>\n",
              "    <tr>\n",
              "      <th>2235</th>\n",
              "      <td>10870</td>\n",
              "      <td>46</td>\n",
              "      <td>16</td>\n",
              "      <td>1341</td>\n",
              "    </tr>\n",
              "    <tr>\n",
              "      <th>2236</th>\n",
              "      <td>4001</td>\n",
              "      <td>56</td>\n",
              "      <td>15</td>\n",
              "      <td>444</td>\n",
              "    </tr>\n",
              "    <tr>\n",
              "      <th>2237</th>\n",
              "      <td>7270</td>\n",
              "      <td>91</td>\n",
              "      <td>18</td>\n",
              "      <td>1241</td>\n",
              "    </tr>\n",
              "    <tr>\n",
              "      <th>2238</th>\n",
              "      <td>8235</td>\n",
              "      <td>8</td>\n",
              "      <td>21</td>\n",
              "      <td>843</td>\n",
              "    </tr>\n",
              "    <tr>\n",
              "      <th>2239</th>\n",
              "      <td>9405</td>\n",
              "      <td>40</td>\n",
              "      <td>8</td>\n",
              "      <td>172</td>\n",
              "    </tr>\n",
              "  </tbody>\n",
              "</table>\n",
              "<p>2216 rows × 4 columns</p>\n",
              "</div>"
            ],
            "text/plain": [
              "         ID  Recency  Frequency  Monetary\n",
              "0      5524       58         22      1617\n",
              "1      2174       38          4        27\n",
              "2      4141       26         20       776\n",
              "3      6182       26          6        53\n",
              "4      5324       94         14       422\n",
              "...     ...      ...        ...       ...\n",
              "2235  10870       46         16      1341\n",
              "2236   4001       56         15       444\n",
              "2237   7270       91         18      1241\n",
              "2238   8235        8         21       843\n",
              "2239   9405       40          8       172\n",
              "\n",
              "[2216 rows x 4 columns]"
            ]
          },
          "execution_count": 80,
          "metadata": {},
          "output_type": "execute_result"
        }
      ],
      "source": [
        "rfm_data"
      ]
    },
    {
      "cell_type": "code",
      "execution_count": 81,
      "metadata": {},
      "outputs": [],
      "source": [
        "# The lower the recency the better\n",
        "rfm_data[\"Recency_score\"] = pd.qcut(rfm_data['Recency'].rank(method=\"first\"), 5, labels=[5, 4, 3, 2, 1])\n",
        "\n",
        "# The higher the frequency and monetary the better\n",
        "rfm_data[\"Frequency_score\"] = pd.qcut(rfm_data['Frequency'].rank(method=\"first\"), 5, labels=[1, 2, 3, 4, 5])\n",
        "rfm_data[\"Monetary_score\"] = pd.qcut(rfm_data['Monetary'].rank(method=\"first\"), 5, labels=[1, 2, 3, 4, 5])"
      ]
    },
    {
      "cell_type": "code",
      "execution_count": 95,
      "metadata": {},
      "outputs": [],
      "source": [
        "# RMF segments\n",
        "rfm_data['Segment'] = \"Non-defined\"\n",
        "rfm_data.loc[(rfm_data['Frequency_score'].isin([5, 4]))  & (rfm_data['Recency_score'] == 5), 'Segment']         = \"Champion\"\n",
        "rfm_data.loc[(rfm_data['Frequency_score'].isin([5, 4]))  & (rfm_data['Recency_score'].isin([3, 4])), 'Segment'] = \"Loyal Customer\"\n",
        "rfm_data.loc[(rfm_data['Frequency_score'].isin([3, 2]))  & (rfm_data['Recency_score'].isin([5, 4])), 'Segment'] = \"Potential Customer\"\n",
        "rfm_data.loc[(rfm_data['Frequency_score'] == 3)          & (rfm_data['Recency_score'] == 3), 'Segment']         = \"Need Attention\"\n",
        "rfm_data.loc[(rfm_data['Frequency_score'] == 1)          & (rfm_data['Recency_score'] == 5), 'Segment']         = \"New Customer\"\n",
        "rfm_data.loc[(rfm_data['Frequency_score'] == 1)          & (rfm_data['Recency_score'] == 4), 'Segment']         = \"Promising\"\n",
        "rfm_data.loc[(rfm_data['Frequency_score'].isin([2, 1]))  & (rfm_data['Recency_score'] == 3), 'Segment']         = \"About to sleep\"\n",
        "rfm_data.loc[(rfm_data['Frequency_score'] == 5)          & (rfm_data['Recency_score'].isin([1, 2])), 'Segment'] = \"Can’t loose them\"\n",
        "rfm_data.loc[(rfm_data['Frequency_score'].isin([4, 3]))  & (rfm_data['Recency_score'].isin([1, 2])), 'Segment'] = \"At risk\"\n",
        "rfm_data.loc[(rfm_data['Frequency_score'].isin([1, 2]))  & (rfm_data['Recency_score'].isin([1, 2])), 'Segment'] = \"Hibernating\""
      ]
    },
    {
      "cell_type": "code",
      "execution_count": 96,
      "metadata": {},
      "outputs": [
        {
          "data": {
            "text/plain": [
              "At risk               361\n",
              "Loyal Customer        354\n",
              "Potential Customer    349\n",
              "Hibernating           343\n",
              "Can’t loose them      182\n",
              "About to sleep        180\n",
              "Champion              177\n",
              "Promising              95\n",
              "New Customer           90\n",
              "Need Attention         85\n",
              "Name: Segment, dtype: int64"
            ]
          },
          "execution_count": 96,
          "metadata": {},
          "output_type": "execute_result"
        }
      ],
      "source": [
        "rfm_data['Segment'].value_counts()"
      ]
    },
    {
      "cell_type": "code",
      "execution_count": 97,
      "metadata": {},
      "outputs": [
        {
          "data": {
            "text/html": [
              "<div>\n",
              "<style scoped>\n",
              "    .dataframe tbody tr th:only-of-type {\n",
              "        vertical-align: middle;\n",
              "    }\n",
              "\n",
              "    .dataframe tbody tr th {\n",
              "        vertical-align: top;\n",
              "    }\n",
              "\n",
              "    .dataframe thead th {\n",
              "        text-align: right;\n",
              "    }\n",
              "</style>\n",
              "<table border=\"1\" class=\"dataframe\">\n",
              "  <thead>\n",
              "    <tr style=\"text-align: right;\">\n",
              "      <th></th>\n",
              "      <th>ID</th>\n",
              "      <th>Recency</th>\n",
              "      <th>Frequency</th>\n",
              "      <th>Monetary</th>\n",
              "      <th>Recency_score</th>\n",
              "      <th>Frequency_score</th>\n",
              "      <th>Monetary_score</th>\n",
              "      <th>Segment</th>\n",
              "    </tr>\n",
              "  </thead>\n",
              "  <tbody>\n",
              "    <tr>\n",
              "      <th>0</th>\n",
              "      <td>5524</td>\n",
              "      <td>58</td>\n",
              "      <td>22</td>\n",
              "      <td>1617</td>\n",
              "      <td>3</td>\n",
              "      <td>5</td>\n",
              "      <td>5</td>\n",
              "      <td>Loyal Customer</td>\n",
              "    </tr>\n",
              "    <tr>\n",
              "      <th>1</th>\n",
              "      <td>2174</td>\n",
              "      <td>38</td>\n",
              "      <td>4</td>\n",
              "      <td>27</td>\n",
              "      <td>4</td>\n",
              "      <td>1</td>\n",
              "      <td>1</td>\n",
              "      <td>Promising</td>\n",
              "    </tr>\n",
              "    <tr>\n",
              "      <th>2</th>\n",
              "      <td>4141</td>\n",
              "      <td>26</td>\n",
              "      <td>20</td>\n",
              "      <td>776</td>\n",
              "      <td>4</td>\n",
              "      <td>4</td>\n",
              "      <td>4</td>\n",
              "      <td>Loyal Customer</td>\n",
              "    </tr>\n",
              "    <tr>\n",
              "      <th>3</th>\n",
              "      <td>6182</td>\n",
              "      <td>26</td>\n",
              "      <td>6</td>\n",
              "      <td>53</td>\n",
              "      <td>4</td>\n",
              "      <td>2</td>\n",
              "      <td>1</td>\n",
              "      <td>Potential Customer</td>\n",
              "    </tr>\n",
              "    <tr>\n",
              "      <th>4</th>\n",
              "      <td>5324</td>\n",
              "      <td>94</td>\n",
              "      <td>14</td>\n",
              "      <td>422</td>\n",
              "      <td>1</td>\n",
              "      <td>3</td>\n",
              "      <td>3</td>\n",
              "      <td>At risk</td>\n",
              "    </tr>\n",
              "    <tr>\n",
              "      <th>...</th>\n",
              "      <td>...</td>\n",
              "      <td>...</td>\n",
              "      <td>...</td>\n",
              "      <td>...</td>\n",
              "      <td>...</td>\n",
              "      <td>...</td>\n",
              "      <td>...</td>\n",
              "      <td>...</td>\n",
              "    </tr>\n",
              "    <tr>\n",
              "      <th>2235</th>\n",
              "      <td>10870</td>\n",
              "      <td>46</td>\n",
              "      <td>16</td>\n",
              "      <td>1341</td>\n",
              "      <td>3</td>\n",
              "      <td>4</td>\n",
              "      <td>5</td>\n",
              "      <td>Loyal Customer</td>\n",
              "    </tr>\n",
              "    <tr>\n",
              "      <th>2236</th>\n",
              "      <td>4001</td>\n",
              "      <td>56</td>\n",
              "      <td>15</td>\n",
              "      <td>444</td>\n",
              "      <td>3</td>\n",
              "      <td>4</td>\n",
              "      <td>3</td>\n",
              "      <td>Loyal Customer</td>\n",
              "    </tr>\n",
              "    <tr>\n",
              "      <th>2237</th>\n",
              "      <td>7270</td>\n",
              "      <td>91</td>\n",
              "      <td>18</td>\n",
              "      <td>1241</td>\n",
              "      <td>1</td>\n",
              "      <td>4</td>\n",
              "      <td>5</td>\n",
              "      <td>At risk</td>\n",
              "    </tr>\n",
              "    <tr>\n",
              "      <th>2238</th>\n",
              "      <td>8235</td>\n",
              "      <td>8</td>\n",
              "      <td>21</td>\n",
              "      <td>843</td>\n",
              "      <td>5</td>\n",
              "      <td>5</td>\n",
              "      <td>4</td>\n",
              "      <td>Champion</td>\n",
              "    </tr>\n",
              "    <tr>\n",
              "      <th>2239</th>\n",
              "      <td>9405</td>\n",
              "      <td>40</td>\n",
              "      <td>8</td>\n",
              "      <td>172</td>\n",
              "      <td>3</td>\n",
              "      <td>2</td>\n",
              "      <td>2</td>\n",
              "      <td>About to sleep</td>\n",
              "    </tr>\n",
              "  </tbody>\n",
              "</table>\n",
              "<p>2216 rows × 8 columns</p>\n",
              "</div>"
            ],
            "text/plain": [
              "         ID  Recency  Frequency  Monetary Recency_score Frequency_score  \\\n",
              "0      5524       58         22      1617             3               5   \n",
              "1      2174       38          4        27             4               1   \n",
              "2      4141       26         20       776             4               4   \n",
              "3      6182       26          6        53             4               2   \n",
              "4      5324       94         14       422             1               3   \n",
              "...     ...      ...        ...       ...           ...             ...   \n",
              "2235  10870       46         16      1341             3               4   \n",
              "2236   4001       56         15       444             3               4   \n",
              "2237   7270       91         18      1241             1               4   \n",
              "2238   8235        8         21       843             5               5   \n",
              "2239   9405       40          8       172             3               2   \n",
              "\n",
              "     Monetary_score             Segment  \n",
              "0                 5      Loyal Customer  \n",
              "1                 1           Promising  \n",
              "2                 4      Loyal Customer  \n",
              "3                 1  Potential Customer  \n",
              "4                 3             At risk  \n",
              "...             ...                 ...  \n",
              "2235              5      Loyal Customer  \n",
              "2236              3      Loyal Customer  \n",
              "2237              5             At risk  \n",
              "2238              4            Champion  \n",
              "2239              2      About to sleep  \n",
              "\n",
              "[2216 rows x 8 columns]"
            ]
          },
          "execution_count": 97,
          "metadata": {},
          "output_type": "execute_result"
        }
      ],
      "source": [
        "rfm_data"
      ]
    },
    {
      "cell_type": "markdown",
      "metadata": {},
      "source": [
        "# 4 - Export to csv"
      ]
    },
    {
      "cell_type": "code",
      "execution_count": 98,
      "metadata": {},
      "outputs": [],
      "source": [
        "customer_data.to_csv(\"final_customer_data.csv\")\n",
        "rfm_data.to_csv(\"final_rfm_data.csv\")\n",
        "marketing_data.to_csv(\"final_marketing_data.csv\")"
      ]
    }
  ],
  "metadata": {
    "colab": {
      "collapsed_sections": [
        "Rpv4omIelVIS"
      ],
      "provenance": [],
      "toc_visible": true
    },
    "kernelspec": {
      "display_name": "base",
      "language": "python",
      "name": "python3"
    },
    "language_info": {
      "codemirror_mode": {
        "name": "ipython",
        "version": 3
      },
      "file_extension": ".py",
      "mimetype": "text/x-python",
      "name": "python",
      "nbconvert_exporter": "python",
      "pygments_lexer": "ipython3",
      "version": "3.10.9"
    },
    "orig_nbformat": 4
  },
  "nbformat": 4,
  "nbformat_minor": 0
}
